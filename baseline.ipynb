{
 "cells": [
  {
   "cell_type": "code",
   "execution_count": 1,
   "id": "c48f6fc3",
   "metadata": {
    "scrolled": true
   },
   "outputs": [],
   "source": [
    "import json\n",
    "import pandas as pd\n",
    "import numpy as np\n",
    "from sklearn.model_selection import train_test_split\n",
    "from sklearn.linear_model import LogisticRegression\n",
    "from sklearn.metrics import accuracy_score, classification_report\n",
    "from sklearn.feature_extraction.text import CountVectorizer\n",
    "from sklearn.utils import class_weight"
   ]
  },
  {
   "cell_type": "code",
   "execution_count": 2,
   "id": "55a69ca2",
   "metadata": {},
   "outputs": [],
   "source": [
    "# Load dataset\n",
    "def load_dataset(file_path):\n",
    "    with open(file_path, 'r') as f:\n",
    "        data = json.load(f)\n",
    "    return pd.DataFrame(data)\n",
    "\n",
    "# Convert sequence of integers to string\n",
    "def int_list_to_str(int_list):\n",
    "    return ' '.join(map(str, int_list))\n",
    "\n",
    "# Load data\n",
    "set1_human = load_dataset(\"./data/set1_human.json\")\n",
    "set1_machine = load_dataset(\"./data/set1_machine.json\")\n",
    "set1_machine = set1_machine.drop('machine_id', axis=1)\n",
    "set2_human = load_dataset(\"./data/set2_human.json\")\n",
    "set2_machine = load_dataset(\"./data/set2_machine.json\")\n",
    "set2_machine = set2_machine.drop('machine_id', axis=1)\n",
    "\n",
    "# Label data and combine\n",
    "set1_human[\"label\"] = 1\n",
    "set1_machine[\"label\"] = 0\n",
    "set2_human[\"label\"] = 1\n",
    "set2_machine[\"label\"] = 0\n",
    "\n",
    "dataset1 = pd.concat([set1_human, set1_machine], ignore_index=True)\n",
    "dataset2 = pd.concat([set2_human, set2_machine], ignore_index=True)\n",
    "\n",
    "# Convert integer lists to strings\n",
    "dataset1['txt'] = dataset1['txt'].apply(int_list_to_str)\n",
    "dataset2['txt'] = dataset2['txt'].apply(int_list_to_str)\n",
    "dataset1['prompt'] = dataset1['prompt'].apply(int_list_to_str)\n",
    "dataset2['prompt'] = dataset2['prompt'].apply(int_list_to_str)\n",
    "\n",
    "# Train/validation split\n",
    "train_data1, val_data1 = train_test_split(dataset1, test_size=0.2, random_state=42, stratify=dataset1[\"label\"])\n",
    "train_data2, val_data2 = train_test_split(dataset2, test_size=0.2, random_state=42, stratify=dataset2[\"label\"])"
   ]
  },
  {
   "cell_type": "code",
   "execution_count": 3,
   "id": "06f56e6d",
   "metadata": {
    "scrolled": false
   },
   "outputs": [
    {
     "data": {
      "text/html": [
       "<div>\n",
       "<style scoped>\n",
       "    .dataframe tbody tr th:only-of-type {\n",
       "        vertical-align: middle;\n",
       "    }\n",
       "\n",
       "    .dataframe tbody tr th {\n",
       "        vertical-align: top;\n",
       "    }\n",
       "\n",
       "    .dataframe thead th {\n",
       "        text-align: right;\n",
       "    }\n",
       "</style>\n",
       "<table border=\"1\" class=\"dataframe\">\n",
       "  <thead>\n",
       "    <tr style=\"text-align: right;\">\n",
       "      <th></th>\n",
       "      <th>prompt</th>\n",
       "      <th>txt</th>\n",
       "      <th>label</th>\n",
       "    </tr>\n",
       "  </thead>\n",
       "  <tbody>\n",
       "    <tr>\n",
       "      <th>49944</th>\n",
       "      <td>1481 2430 4780 17 86 1607 68 70 1724 1722 2729...</td>\n",
       "      <td>10 1502 2157 1591 2850 15 1502 2157 1591 2451 ...</td>\n",
       "      <td>1</td>\n",
       "    </tr>\n",
       "    <tr>\n",
       "      <th>587</th>\n",
       "      <td>1502 2332 1725 1479 3125 15 1493 2209 3034 150...</td>\n",
       "      <td>76 1549 81 10 87 1640 1586 2325 1559 1569 76 1...</td>\n",
       "      <td>1</td>\n",
       "    </tr>\n",
       "    <tr>\n",
       "      <th>36306</th>\n",
       "      <td>1602 2158 1944 2437 68 2607 2234 17 1487 1574 ...</td>\n",
       "      <td>76 4356 1764 76 1515 1487 1479 1616 1500 1574 ...</td>\n",
       "      <td>1</td>\n",
       "    </tr>\n",
       "    <tr>\n",
       "      <th>6573</th>\n",
       "      <td>1479 1845 2633 1831 1479 3573 1491 2329 2995 1...</td>\n",
       "      <td>13 1520 1678 1479 2025 1557 1502 34 1518 13 15...</td>\n",
       "      <td>1</td>\n",
       "    </tr>\n",
       "    <tr>\n",
       "      <th>100102</th>\n",
       "      <td>2571 17 1514 74 1620 1493 3943 2035 1641 2396 ...</td>\n",
       "      <td>1518 3300 1656 4429 15 1520 4630 2145 2038 394...</td>\n",
       "      <td>1</td>\n",
       "    </tr>\n",
       "  </tbody>\n",
       "</table>\n",
       "</div>"
      ],
      "text/plain": [
       "                                                   prompt  \\\n",
       "49944   1481 2430 4780 17 86 1607 68 70 1724 1722 2729...   \n",
       "587     1502 2332 1725 1479 3125 15 1493 2209 3034 150...   \n",
       "36306   1602 2158 1944 2437 68 2607 2234 17 1487 1574 ...   \n",
       "6573    1479 1845 2633 1831 1479 3573 1491 2329 2995 1...   \n",
       "100102  2571 17 1514 74 1620 1493 3943 2035 1641 2396 ...   \n",
       "\n",
       "                                                      txt  label  \n",
       "49944   10 1502 2157 1591 2850 15 1502 2157 1591 2451 ...      1  \n",
       "587     76 1549 81 10 87 1640 1586 2325 1559 1569 76 1...      1  \n",
       "36306   76 4356 1764 76 1515 1487 1479 1616 1500 1574 ...      1  \n",
       "6573    13 1520 1678 1479 2025 1557 1502 34 1518 13 15...      1  \n",
       "100102  1518 3300 1656 4429 15 1520 4630 2145 2038 394...      1  "
      ]
     },
     "execution_count": 3,
     "metadata": {},
     "output_type": "execute_result"
    }
   ],
   "source": [
    "# a general look of the dataframe\n",
    "train_data1.head()"
   ]
  },
  {
   "cell_type": "code",
   "execution_count": 4,
   "id": "7e974ff9",
   "metadata": {},
   "outputs": [],
   "source": [
    "# test data pre-processing\n",
    "test_data = load_dataset(\"./data/test.json\")\n",
    "test_data['txt'] = test_data['txt'].apply(int_list_to_str)\n",
    "test_data['prompt'] = test_data['prompt'].apply(int_list_to_str)\n",
    "# Extract test instances from domain1 and domain2\n",
    "test_data1 = test_data.iloc[:600]\n",
    "test_data2 = test_data.iloc[600:]"
   ]
  },
  {
   "cell_type": "code",
   "execution_count": 5,
   "id": "d69d14b4",
   "metadata": {},
   "outputs": [],
   "source": [
    "# Vectorize input data using Bag-of-Words representation\n",
    "\n",
    "# Domain 1\n",
    "vectorizer = CountVectorizer(max_features=5000)\n",
    "X_train1 = vectorizer.fit_transform(train_data1['txt']).toarray()\n",
    "y_train1 = train_data1[\"label\"].values\n",
    "X_val1 = vectorizer.transform(val_data1['txt']).toarray()\n",
    "y_val1 = val_data1[\"label\"].values\n",
    "\n",
    "X_test1 = vectorizer.transform(test_data1['txt']).toarray()\n",
    "\n",
    "# Domain 2\n",
    "X_train2 = vectorizer.fit_transform(train_data2['txt']).toarray()\n",
    "y_train2 = train_data2[\"label\"].values\n",
    "X_val2 = vectorizer.transform(val_data2['txt']).toarray()\n",
    "y_val2 = val_data2[\"label\"].values\n",
    "\n",
    "X_test2 = vectorizer.transform(test_data2['txt']).toarray()\n",
    "\n",
    "# Prompt\n",
    "X_train3 = vectorizer.fit_transform(train_data1['prompt']).toarray()\n",
    "y_train3 = train_data1[\"label\"].values\n",
    "X_val3 = vectorizer.transform(val_data1['prompt']).toarray()\n",
    "y_val3 = val_data1[\"label\"].values\n",
    "\n",
    "X_test3 = vectorizer.transform(test_data1['prompt']).toarray()\n",
    "\n",
    "X_train4 = vectorizer.fit_transform(train_data2['prompt']).toarray()\n",
    "y_train4 = train_data2[\"label\"].values\n",
    "X_val4 = vectorizer.transform(val_data2['prompt']).toarray()\n",
    "y_val4 = val_data2[\"label\"].values\n",
    "\n",
    "X_test4 = vectorizer.transform(test_data2['prompt']).toarray()"
   ]
  },
  {
   "cell_type": "code",
   "execution_count": 8,
   "id": "8607080f",
   "metadata": {},
   "outputs": [
    {
     "name": "stdout",
     "output_type": "stream",
     "text": [
      "\n",
      "TXT:\n",
      "\n",
      "Domain1 Validation Accuracy: 0.9633580521077051\n",
      "Domain2 Validation Accuracy: 0.89\n"
     ]
    }
   ],
   "source": [
    "# Train logistic regression model\n",
    "from sklearn.preprocessing import StandardScaler\n",
    "\n",
    "scaler = StandardScaler()\n",
    "X_train1 = scaler.fit_transform(X_train1)\n",
    "X_val1 = scaler.transform(X_val1)\n",
    "\n",
    "scaler = StandardScaler()\n",
    "X_train2 = scaler.fit_transform(X_train2)\n",
    "X_val2 = scaler.transform(X_val2)\n",
    "\n",
    "\n",
    "model1 = LogisticRegression(penalty='l2', C=1.0, class_weight=\"balanced\", max_iter=1000)\n",
    "model1.fit(X_train1, y_train1)\n",
    "\n",
    "\n",
    "model2 = LogisticRegression(penalty='l2', C=1.0, class_weight=\"balanced\", max_iter=1000)\n",
    "model2.fit(X_train2, y_train2)\n",
    "\n",
    "# Make predictions and evaluate\n",
    "y_pred_val1 = model1.predict(X_val1)\n",
    "y_pred_val2 = model2.predict(X_val2)\n",
    "\n",
    "print(\"\\nTXT:\\n\")\n",
    "print(\"Domain1 Validation Accuracy:\", accuracy_score(y_val1, y_pred_val1))\n",
    "print(\"Domain2 Validation Accuracy:\", accuracy_score(y_val2, y_pred_val2))"
   ]
  },
  {
   "cell_type": "code",
   "execution_count": 9,
   "id": "984ff756",
   "metadata": {},
   "outputs": [
    {
     "name": "stdout",
     "output_type": "stream",
     "text": [
      "Output CSV done.\n"
     ]
    }
   ],
   "source": [
    "# Make predictions on test data\n",
    "y_pred_test1 = model1.predict(X_test1)\n",
    "y_pred_test2 = model2.predict(X_test2)\n",
    "\n",
    "# Combine predictions from domain1 and domain2\n",
    "y_pred_test = np.concatenate([y_pred_test1, y_pred_test2])\n",
    "\n",
    "# Create a DataFrame with the required format for Kaggle submission\n",
    "submission = pd.DataFrame({\"Id\": np.arange(len(y_pred_test)), \"Predicted\": y_pred_test})\n",
    "\n",
    "# Export the submission DataFrame to a CSV file\n",
    "submission.to_csv(\"submission_baseline_scale_lasso.csv\", index=False)\n",
    "print(\"Output CSV done.\")"
   ]
  },
  {
   "cell_type": "code",
   "execution_count": null,
   "id": "a7cdcf4d",
   "metadata": {},
   "outputs": [],
   "source": []
  }
 ],
 "metadata": {
  "kernelspec": {
   "display_name": "Python 3 (ipykernel)",
   "language": "python",
   "name": "python3"
  },
  "language_info": {
   "codemirror_mode": {
    "name": "ipython",
    "version": 3
   },
   "file_extension": ".py",
   "mimetype": "text/x-python",
   "name": "python",
   "nbconvert_exporter": "python",
   "pygments_lexer": "ipython3",
   "version": "3.9.16"
  }
 },
 "nbformat": 4,
 "nbformat_minor": 5
}
